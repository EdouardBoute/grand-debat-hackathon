{
 "cells": [
  {
   "cell_type": "markdown",
   "metadata": {},
   "source": [
    "## Import libraries"
   ]
  },
  {
   "cell_type": "code",
   "execution_count": 88,
   "metadata": {},
   "outputs": [
    {
     "name": "stdout",
     "output_type": "stream",
     "text": [
      "Populating the interactive namespace from numpy and matplotlib\n"
     ]
    }
   ],
   "source": [
    "import re\n",
    "from pprint import pprint\n",
    "import pandas as pd\n",
    "import matplotlib.pyplot as plt\n",
    "from tqdm import tqdm\n",
    "tqdm.pandas()\n",
    "from tqdm import tqdm_notebook as tqdm\n",
    "\n",
    "%pylab inline\n",
    "pylab.rcParams['figure.figsize'] = (16, 6)"
   ]
  },
  {
   "cell_type": "markdown",
   "metadata": {},
   "source": [
    "## Load dataset"
   ]
  },
  {
   "cell_type": "code",
   "execution_count": 35,
   "metadata": {},
   "outputs": [],
   "source": [
    "CSV_FILE_PATH = {\n",
    "    'transition' : 'data/LA_TRANSITION_ECOLOGIQUE.csv',\n",
    "    'fiscalite': 'data/LA_FISCALITE_ET_LES_DEPENSES_PUBLIQUES.csv',\n",
    "    'democratie': 'data/DEMOCRATIE_ET_CITOYENNETE.csv',\n",
    "    'organisation': 'data/ORGANISATION_DE_LETAT_ET_DES_SERVICES_PUBLICS.csv'\n",
    "}"
   ]
  },
  {
   "cell_type": "code",
   "execution_count": 36,
   "metadata": {},
   "outputs": [],
   "source": [
    "selected_topic = 'fiscalite'\n",
    "raw_df = pd.read_csv(CSV_FILE_PATH[selected_topic])\n",
    "raw_shape = raw_df.shape[0]"
   ]
  },
  {
   "cell_type": "markdown",
   "metadata": {},
   "source": [
    "## Deduplicate and clean column names"
   ]
  },
  {
   "cell_type": "markdown",
   "metadata": {},
   "source": [
    "###### Deduplication on 'id' column"
   ]
  },
  {
   "cell_type": "code",
   "execution_count": 37,
   "metadata": {},
   "outputs": [
    {
     "name": "stdout",
     "output_type": "stream",
     "text": [
      ">>> #duplicates removed: 317\n",
      ">>> #samples           : 126482\n"
     ]
    }
   ],
   "source": [
    "df = raw_df.drop_duplicates('id')\n",
    "nb_samples = df.shape[0]\n",
    "nb_removed = raw_shape - nb_samples\n",
    "print(\">>> #duplicates removed: {}\".format(nb_removed))\n",
    "print(\">>> #samples           : {}\".format(nb_samples))"
   ]
  },
  {
   "cell_type": "markdown",
   "metadata": {},
   "source": [
    "###### Column name formatting"
   ]
  },
  {
   "cell_type": "code",
   "execution_count": 38,
   "metadata": {},
   "outputs": [],
   "source": [
    "QUESTION_PATTERN = re.compile(r\"(?P<question_code>\\w{17})(?: - )(?P<question_description>.*)\")\n",
    "QUESTION_DESCRIPTION = dict()\n",
    "\n",
    "def split_column_name(column_name):\n",
    "    _match = QUESTION_PATTERN.match(column_name)\n",
    "    if not _match:\n",
    "        return column_name\n",
    "    code = _match.group('question_code')\n",
    "    QUESTION_DESCRIPTION[code] = _match.group('question_description')\n",
    "    return code\n",
    "\n",
    "new_columns = df.columns.map(split_column_name)\n",
    "df.columns = new_columns"
   ]
  },
  {
   "cell_type": "code",
   "execution_count": 39,
   "metadata": {
    "scrolled": true
   },
   "outputs": [
    {
     "name": "stdout",
     "output_type": "stream",
     "text": [
      "{'QUXVlc3Rpb246MTY0': \"Quels sont selon vous les impôts qu'il faut baisser en \"\n",
      "                      'priorité ?',\n",
      " 'QUXVlc3Rpb246MTY1': 'Quels sont les domaines prioritaires où notre '\n",
      "                      'protection sociale doit être renforcée ?',\n",
      " 'QUXVlc3Rpb246MTY2': 'Pour quelle(s) politique(s) publique(s) ou pour quels '\n",
      "                      \"domaines d'action publique, seriez-vous prêts à payer \"\n",
      "                      \"plus d'impôts ?\",\n",
      " 'QUXVlc3Rpb246MTY3': \"Y a-t-il d'autres points sur les impôts et les dépenses \"\n",
      "                      'sur lesquels vous souhaiteriez vous exprimer ?',\n",
      " 'QUXVlc3Rpb246MTYy': 'Quelles sont toutes les choses qui pourraient être '\n",
      "                      \"faites pour améliorer l'information des citoyens sur \"\n",
      "                      \"l'utilisation des impôts ?\",\n",
      " 'QUXVlc3Rpb246MTYz': 'Que faudrait-il faire pour rendre la fiscalité plus '\n",
      "                      'juste et plus efficace ?',\n",
      " 'QUXVlc3Rpb246MjA1': \"S'il faut selon vous revoir les conditions \"\n",
      "                      \"d'attribution de certaines aides sociales, lesquelles \"\n",
      "                      'doivent être concernées ?',\n",
      " 'QUXVlc3Rpb246MjA2': 'Afin de financer les dépenses sociales, faut-il selon '\n",
      "                      'vous...'}\n"
     ]
    }
   ],
   "source": [
    "pprint(QUESTION_DESCRIPTION)"
   ]
  },
  {
   "cell_type": "code",
   "execution_count": 41,
   "metadata": {},
   "outputs": [
    {
     "data": {
      "text/html": [
       "<div>\n",
       "<style scoped>\n",
       "    .dataframe tbody tr th:only-of-type {\n",
       "        vertical-align: middle;\n",
       "    }\n",
       "\n",
       "    .dataframe tbody tr th {\n",
       "        vertical-align: top;\n",
       "    }\n",
       "\n",
       "    .dataframe thead th {\n",
       "        text-align: right;\n",
       "    }\n",
       "</style>\n",
       "<table border=\"1\" class=\"dataframe\">\n",
       "  <thead>\n",
       "    <tr style=\"text-align: right;\">\n",
       "      <th></th>\n",
       "      <th>id</th>\n",
       "      <th>reference</th>\n",
       "      <th>title</th>\n",
       "      <th>createdAt</th>\n",
       "      <th>publishedAt</th>\n",
       "      <th>updatedAt</th>\n",
       "      <th>trashed</th>\n",
       "      <th>trashedStatus</th>\n",
       "      <th>authorId</th>\n",
       "      <th>authorType</th>\n",
       "      <th>authorZipCode</th>\n",
       "      <th>QUXVlc3Rpb246MTYy</th>\n",
       "      <th>QUXVlc3Rpb246MTYz</th>\n",
       "      <th>QUXVlc3Rpb246MTY0</th>\n",
       "      <th>QUXVlc3Rpb246MjA2</th>\n",
       "      <th>QUXVlc3Rpb246MjA1</th>\n",
       "      <th>QUXVlc3Rpb246MTY1</th>\n",
       "      <th>QUXVlc3Rpb246MTY2</th>\n",
       "      <th>QUXVlc3Rpb246MTY3</th>\n",
       "    </tr>\n",
       "  </thead>\n",
       "  <tbody>\n",
       "    <tr>\n",
       "      <th>0</th>\n",
       "      <td>UHJvcG9zYWw6YTY1MmU0YTMtMWUyMC0xMWU5LTk0ZDItZm...</td>\n",
       "      <td>3-2</td>\n",
       "      <td>TVA sociale</td>\n",
       "      <td>2019-01-22 09:35:18</td>\n",
       "      <td>2019-01-22 09:35:18</td>\n",
       "      <td>NaN</td>\n",
       "      <td>False</td>\n",
       "      <td>NaN</td>\n",
       "      <td>VXNlcjo3ZTVjYTUwMi0xZDZlLTExZTktOTRkMi1mYTE2M2...</td>\n",
       "      <td>Citoyen / Citoyenne</td>\n",
       "      <td>94800</td>\n",
       "      <td>NaN</td>\n",
       "      <td>NaN</td>\n",
       "      <td>NaN</td>\n",
       "      <td>diminuer la CSG de 2 points et en contrepartie...</td>\n",
       "      <td>NaN</td>\n",
       "      <td>NaN</td>\n",
       "      <td>NaN</td>\n",
       "      <td>NaN</td>\n",
       "    </tr>\n",
       "    <tr>\n",
       "      <th>1</th>\n",
       "      <td>UHJvcG9zYWw6ZGNhY2VhYmYtMWUyMC0xMWU5LTk0ZDItZm...</td>\n",
       "      <td>3-3</td>\n",
       "      <td>Augmentation du pouvoir d'achat</td>\n",
       "      <td>2019-01-22 09:36:50</td>\n",
       "      <td>2019-01-22 09:38:01</td>\n",
       "      <td>NaN</td>\n",
       "      <td>False</td>\n",
       "      <td>NaN</td>\n",
       "      <td>VXNlcjo5NmNhYWM4ZS0xZTIwLTExZTktOTRkMi1mYTE2M2...</td>\n",
       "      <td>Citoyen / Citoyenne</td>\n",
       "      <td>27500</td>\n",
       "      <td>NaN</td>\n",
       "      <td>NaN</td>\n",
       "      <td>NaN</td>\n",
       "      <td>NaN</td>\n",
       "      <td>NaN</td>\n",
       "      <td>NaN</td>\n",
       "      <td>NaN</td>\n",
       "      <td>Améliorer le pouvoir d’achat en augmentant les...</td>\n",
       "    </tr>\n",
       "    <tr>\n",
       "      <th>2</th>\n",
       "      <td>UHJvcG9zYWw6MDhhMWNkOTQtMWUyMS0xMWU5LTk0ZDItZm...</td>\n",
       "      <td>3-4</td>\n",
       "      <td>le patrimoine en or dans l'IFI</td>\n",
       "      <td>2019-01-22 09:38:03</td>\n",
       "      <td>2019-01-22 09:38:03</td>\n",
       "      <td>NaN</td>\n",
       "      <td>False</td>\n",
       "      <td>NaN</td>\n",
       "      <td>VXNlcjo3ZTVjYTUwMi0xZDZlLTExZTktOTRkMi1mYTE2M2...</td>\n",
       "      <td>Citoyen / Citoyenne</td>\n",
       "      <td>94800</td>\n",
       "      <td>NaN</td>\n",
       "      <td>NaN</td>\n",
       "      <td>NaN</td>\n",
       "      <td>Réforme de l'IFI pour y inclure le patrimoine ...</td>\n",
       "      <td>NaN</td>\n",
       "      <td>NaN</td>\n",
       "      <td>NaN</td>\n",
       "      <td>NaN</td>\n",
       "    </tr>\n",
       "    <tr>\n",
       "      <th>3</th>\n",
       "      <td>UHJvcG9zYWw6NGZlNTVlMDMtMWUyMS0xMWU5LTk0ZDItZm...</td>\n",
       "      <td>3-6</td>\n",
       "      <td>Pouvoir d achat</td>\n",
       "      <td>2019-01-22 09:40:03</td>\n",
       "      <td>2019-01-22 09:40:03</td>\n",
       "      <td>NaN</td>\n",
       "      <td>False</td>\n",
       "      <td>NaN</td>\n",
       "      <td>VXNlcjpjNDY0ZjllMy0xZDk4LTExZTktOTRkMi1mYTE2M2...</td>\n",
       "      <td>Citoyen / Citoyenne</td>\n",
       "      <td>35000</td>\n",
       "      <td>NaN</td>\n",
       "      <td>Repartir les richesses.  suppression de la tax...</td>\n",
       "      <td>Csg .taxe d habitation .</td>\n",
       "      <td>Revoir les conditions d'attribution de certain...</td>\n",
       "      <td>NaN</td>\n",
       "      <td>Santé. Éducation</td>\n",
       "      <td>NaN</td>\n",
       "      <td>NaN</td>\n",
       "    </tr>\n",
       "    <tr>\n",
       "      <th>4</th>\n",
       "      <td>UHJvcG9zYWw6NmQ3MmU3ZDMtMWUyMS0xMWU5LTk0ZDItZm...</td>\n",
       "      <td>3-8</td>\n",
       "      <td>droits et devoirs</td>\n",
       "      <td>2019-01-22 09:40:53</td>\n",
       "      <td>2019-01-22 09:40:53</td>\n",
       "      <td>NaN</td>\n",
       "      <td>False</td>\n",
       "      <td>NaN</td>\n",
       "      <td>VXNlcjo3MDdkM2IzOC0xZDYxLTExZTktOTRkMi1mYTE2M2...</td>\n",
       "      <td>Citoyen / Citoyenne</td>\n",
       "      <td>22680</td>\n",
       "      <td>NaN</td>\n",
       "      <td>Les droits soient automatiques, comme nos devo...</td>\n",
       "      <td>NaN</td>\n",
       "      <td>NaN</td>\n",
       "      <td>on nous parle toujours de nos devoirs mais rar...</td>\n",
       "      <td>NaN</td>\n",
       "      <td>NaN</td>\n",
       "      <td>NaN</td>\n",
       "    </tr>\n",
       "  </tbody>\n",
       "</table>\n",
       "</div>"
      ],
      "text/plain": [
       "                                                  id reference  \\\n",
       "0  UHJvcG9zYWw6YTY1MmU0YTMtMWUyMC0xMWU5LTk0ZDItZm...       3-2   \n",
       "1  UHJvcG9zYWw6ZGNhY2VhYmYtMWUyMC0xMWU5LTk0ZDItZm...       3-3   \n",
       "2  UHJvcG9zYWw6MDhhMWNkOTQtMWUyMS0xMWU5LTk0ZDItZm...       3-4   \n",
       "3  UHJvcG9zYWw6NGZlNTVlMDMtMWUyMS0xMWU5LTk0ZDItZm...       3-6   \n",
       "4  UHJvcG9zYWw6NmQ3MmU3ZDMtMWUyMS0xMWU5LTk0ZDItZm...       3-8   \n",
       "\n",
       "                             title            createdAt          publishedAt  \\\n",
       "0                      TVA sociale  2019-01-22 09:35:18  2019-01-22 09:35:18   \n",
       "1  Augmentation du pouvoir d'achat  2019-01-22 09:36:50  2019-01-22 09:38:01   \n",
       "2   le patrimoine en or dans l'IFI  2019-01-22 09:38:03  2019-01-22 09:38:03   \n",
       "3                  Pouvoir d achat  2019-01-22 09:40:03  2019-01-22 09:40:03   \n",
       "4                droits et devoirs  2019-01-22 09:40:53  2019-01-22 09:40:53   \n",
       "\n",
       "  updatedAt  trashed trashedStatus  \\\n",
       "0       NaN    False           NaN   \n",
       "1       NaN    False           NaN   \n",
       "2       NaN    False           NaN   \n",
       "3       NaN    False           NaN   \n",
       "4       NaN    False           NaN   \n",
       "\n",
       "                                            authorId           authorType  \\\n",
       "0  VXNlcjo3ZTVjYTUwMi0xZDZlLTExZTktOTRkMi1mYTE2M2...  Citoyen / Citoyenne   \n",
       "1  VXNlcjo5NmNhYWM4ZS0xZTIwLTExZTktOTRkMi1mYTE2M2...  Citoyen / Citoyenne   \n",
       "2  VXNlcjo3ZTVjYTUwMi0xZDZlLTExZTktOTRkMi1mYTE2M2...  Citoyen / Citoyenne   \n",
       "3  VXNlcjpjNDY0ZjllMy0xZDk4LTExZTktOTRkMi1mYTE2M2...  Citoyen / Citoyenne   \n",
       "4  VXNlcjo3MDdkM2IzOC0xZDYxLTExZTktOTRkMi1mYTE2M2...  Citoyen / Citoyenne   \n",
       "\n",
       "   authorZipCode QUXVlc3Rpb246MTYy  \\\n",
       "0          94800               NaN   \n",
       "1          27500               NaN   \n",
       "2          94800               NaN   \n",
       "3          35000               NaN   \n",
       "4          22680               NaN   \n",
       "\n",
       "                                   QUXVlc3Rpb246MTYz  \\\n",
       "0                                                NaN   \n",
       "1                                                NaN   \n",
       "2                                                NaN   \n",
       "3  Repartir les richesses.  suppression de la tax...   \n",
       "4  Les droits soient automatiques, comme nos devo...   \n",
       "\n",
       "          QUXVlc3Rpb246MTY0  \\\n",
       "0                       NaN   \n",
       "1                       NaN   \n",
       "2                       NaN   \n",
       "3  Csg .taxe d habitation .   \n",
       "4                       NaN   \n",
       "\n",
       "                                   QUXVlc3Rpb246MjA2  \\\n",
       "0  diminuer la CSG de 2 points et en contrepartie...   \n",
       "1                                                NaN   \n",
       "2  Réforme de l'IFI pour y inclure le patrimoine ...   \n",
       "3  Revoir les conditions d'attribution de certain...   \n",
       "4                                                NaN   \n",
       "\n",
       "                                   QUXVlc3Rpb246MjA1 QUXVlc3Rpb246MTY1  \\\n",
       "0                                                NaN               NaN   \n",
       "1                                                NaN               NaN   \n",
       "2                                                NaN               NaN   \n",
       "3                                                NaN  Santé. Éducation   \n",
       "4  on nous parle toujours de nos devoirs mais rar...               NaN   \n",
       "\n",
       "  QUXVlc3Rpb246MTY2                                  QUXVlc3Rpb246MTY3  \n",
       "0               NaN                                                NaN  \n",
       "1               NaN  Améliorer le pouvoir d’achat en augmentant les...  \n",
       "2               NaN                                                NaN  \n",
       "3               NaN                                                NaN  \n",
       "4               NaN                                                NaN  "
      ]
     },
     "execution_count": 41,
     "metadata": {},
     "output_type": "execute_result"
    }
   ],
   "source": [
    "df.head()"
   ]
  },
  {
   "cell_type": "markdown",
   "metadata": {},
   "source": [
    "## CreationAt analysis"
   ]
  },
  {
   "cell_type": "code",
   "execution_count": 44,
   "metadata": {},
   "outputs": [
    {
     "data": {
      "text/plain": [
       "<matplotlib.axes._subplots.AxesSubplot at 0x1313612b0>"
      ]
     },
     "execution_count": 44,
     "metadata": {},
     "output_type": "execute_result"
    },
    {
     "data": {
      "image/png": "[encoded data removed]",
      "text/plain": [
       "<Figure size 1152x432 with 1 Axes>"
      ]
     },
     "metadata": {
      "needs_background": "light"
     },
     "output_type": "display_data"
    }
   ],
   "source": [
    "pd.to_datetime(df.createdAt).hist(bins=1000)"
   ]
  },
  {
   "cell_type": "markdown",
   "metadata": {},
   "source": [
    "* Higher participation on Sundays\n",
    "* Very high participation at the beginning\n"
   ]
  },
  {
   "cell_type": "markdown",
   "metadata": {},
   "source": [
    "## ZipCode (-> department) Analysis"
   ]
  },
  {
   "cell_type": "code",
   "execution_count": 45,
   "metadata": {
    "scrolled": true
   },
   "outputs": [
    {
     "data": {
      "text/plain": [
       "<matplotlib.axes._subplots.AxesSubplot at 0x122487a58>"
      ]
     },
     "execution_count": 45,
     "metadata": {},
     "output_type": "execute_result"
    },
    {
     "data": {
      "image/png": "[encoded data removed]",
      "text/plain": [
       "<Figure size 1152x432 with 1 Axes>"
      ]
     },
     "metadata": {
      "needs_background": "light"
     },
     "output_type": "display_data"
    }
   ],
   "source": [
    "def to_department(zip_code):\n",
    "    return int(zip_code / 1000)\n",
    "\n",
    "department_codes = df.authorZipCode.apply(to_department)\n",
    "department_codes.value_counts().iloc[:10].plot(kind='barh')"
   ]
  },
  {
   "cell_type": "markdown",
   "metadata": {},
   "source": [
    "## Analyse filling rate / question"
   ]
  },
  {
   "cell_type": "code",
   "execution_count": 46,
   "metadata": {
    "scrolled": true
   },
   "outputs": [
    {
     "name": "stdout",
     "output_type": "stream",
     "text": [
      "Quelles sont toutes les choses qui pourraient être faites pour améliorer l'information des citoyens sur l'utilisation des impôts ?\n",
      ">>> Fill rate: 0.7%\n",
      "\n",
      "Que faudrait-il faire pour rendre la fiscalité plus juste et plus efficace ?\n",
      ">>> Fill rate: 0.83%\n",
      "\n",
      "Quels sont selon vous les impôts qu'il faut baisser en priorité ?\n",
      ">>> Fill rate: 0.75%\n",
      "\n",
      "Afin de financer les dépenses sociales, faut-il selon vous...\n",
      ">>> Fill rate: 0.83%\n",
      "\n",
      "S'il faut selon vous revoir les conditions d'attribution de certaines aides sociales, lesquelles doivent être concernées ?\n",
      ">>> Fill rate: 0.67%\n",
      "\n",
      "Quels sont les domaines prioritaires où notre protection sociale doit être renforcée ?\n",
      ">>> Fill rate: 0.7%\n",
      "\n",
      "Pour quelle(s) politique(s) publique(s) ou pour quels domaines d'action publique, seriez-vous prêts à payer plus d'impôts ?\n",
      ">>> Fill rate: 0.7%\n",
      "\n",
      "Y a-t-il d'autres points sur les impôts et les dépenses sur lesquels vous souhaiteriez vous exprimer ?\n",
      ">>> Fill rate: 0.71%\n",
      "\n"
     ]
    }
   ],
   "source": [
    "for question_key, description in QUESTION_DESCRIPTION.items():\n",
    "    print(description)\n",
    "    nb_samples = df.shape[0]\n",
    "    nb_missing = df[question_key].isna().sum()\n",
    "    fill_rate = round(1 - nb_missing/nb_samples, 2)\n",
    "    print(\">>> Fill rate: {}%\\n\".format(fill_rate))"
   ]
  },
  {
   "cell_type": "markdown",
   "metadata": {},
   "source": [
    "## Clean text answers\n"
   ]
  },
  {
   "cell_type": "markdown",
   "metadata": {},
   "source": [
    "###### To run only once (download stopwords)\n",
    "```\n",
    "import nltk\n",
    "nltk.download('stopwords')\n",
    "```"
   ]
  },
  {
   "cell_type": "code",
   "execution_count": 78,
   "metadata": {},
   "outputs": [],
   "source": [
    "from nltk.corpus import stopwords\n",
    "\n",
    "french_stopwords = set(stopwords.words('french'))\n",
    "french_stopwords.update({'les', 'a'})"
   ]
  },
  {
   "cell_type": "code",
   "execution_count": 94,
   "metadata": {},
   "outputs": [
    {
     "name": "stderr",
     "output_type": "stream",
     "text": [
      "100%|██████████| 88047/88047 [00:51<00:00, 1707.76it/s]\n"
     ]
    }
   ],
   "source": [
    "from nltk.stem.snowball import FrenchStemmer\n",
    "stemmer = FrenchStemmer()\n",
    "\n",
    "def remove_stopwords(text):\n",
    "    return \" \".join([word for word in text.split() if word not in french_stopwords])\n",
    "\n",
    "def remove_specials(text):\n",
    "    return re.sub(\"[-,\\':]\", \" \", text)\n",
    "\n",
    "def stem(tokens):\n",
    "    return [stemmer.stem(token) for token in tokens]\n",
    "\n",
    "clean_callbacks = [\n",
    "    str.lower,  # lowercase\n",
    "    remove_specials,  # remove few special characters\n",
    "    remove_stopwords,  # remove unneccessary words\n",
    "    str.split,  # tokenize\n",
    "    stem  # apply stemming\n",
    "]\n",
    "\n",
    "def clean(text):\n",
    "    for _callback in clean_callbacks:\n",
    "        text = _callback(text)\n",
    "    return text\n",
    "\n",
    "tokens = df['QUXVlc3Rpb246MTYy'].dropna().progress_apply(clean)"
   ]
  },
  {
   "cell_type": "markdown",
   "metadata": {},
   "source": [
    "## Most common words\n"
   ]
  },
  {
   "cell_type": "code",
   "execution_count": 95,
   "metadata": {},
   "outputs": [],
   "source": [
    "# flatten\n",
    "stacked_tokens = [token for sublist in tokens for token in sublist]"
   ]
  },
  {
   "cell_type": "markdown",
   "metadata": {},
   "source": [
    "###### Top-50 words"
   ]
  },
  {
   "cell_type": "code",
   "execution_count": 96,
   "metadata": {
    "scrolled": true
   },
   "outputs": [
    {
     "data": {
      "text/plain": [
       "impôt          28936\n",
       "dépens         23366\n",
       "plus           20713\n",
       "inform         16784\n",
       "chaqu          15464\n",
       "tout           13981\n",
       "utilis         13940\n",
       "citoyen        13280\n",
       "tous           11576\n",
       "publiqu        10870\n",
       "être           10265\n",
       "fair            9484\n",
       "transparent     9351\n",
       "compt           9167\n",
       "état            8859\n",
       "budget          8659\n",
       "franc           8131\n",
       "public          7790\n",
       "tax             7478\n",
       "pai             7438\n",
       "annuel          7399\n",
       "fiscal          7220\n",
       "servic          7205\n",
       "sit             7131\n",
       "coût            7087\n",
       "expliqu         7071\n",
       "don             6822\n",
       "anné            6801\n",
       "grand           6735\n",
       "fait            6594\n",
       "comm            6439\n",
       "social          6378\n",
       "cel             6073\n",
       "commun          5876\n",
       "argent          5724\n",
       "exempl          5710\n",
       "collect         5659\n",
       "faut            5577\n",
       "financ          5433\n",
       "part            5373\n",
       "contribu        5280\n",
       "cet             5130\n",
       "etat            5115\n",
       "internet        5090\n",
       "répartit        5022\n",
       "fonction        4996\n",
       "clair           4974\n",
       "simpl           4948\n",
       "bien            4936\n",
       "recet           4852\n",
       "dtype: int64"
      ]
     },
     "execution_count": 96,
     "metadata": {},
     "output_type": "execute_result"
    }
   ],
   "source": [
    "pd.Series(stacked_tokens).value_counts().iloc[:50]"
   ]
  },
  {
   "cell_type": "markdown",
   "metadata": {},
   "source": [
    "## Vizualisation of answers on a 2D plan"
   ]
  },
  {
   "cell_type": "code",
   "execution_count": 107,
   "metadata": {},
   "outputs": [],
   "source": [
    "from sklearn.feature_extraction.text import TfidfVectorizer\n",
    "\n",
    "def join_tokens(_tokens):\n",
    "    return \" \".join(_tokens)\n",
    "\n",
    "data = tokens.apply(join_tokens)\n",
    "vectorizer = TfidfVectorizer(lowercase=None)\n",
    "vectors = vectorizer.fit_transform(data)"
   ]
  },
  {
   "cell_type": "code",
   "execution_count": 109,
   "metadata": {},
   "outputs": [],
   "source": [
    "from sklearn.decomposition import TruncatedSVD\n",
    "\n",
    "svd = TruncatedSVD(n_components=2)\n",
    "reduced_vectors = svd.fit_transform(vectors)"
   ]
  },
  {
   "cell_type": "code",
   "execution_count": 111,
   "metadata": {},
   "outputs": [
    {
     "data": {
      "text/plain": [
       "[<matplotlib.lines.Line2D at 0x1810ee940>]"
      ]
     },
     "execution_count": 111,
     "metadata": {},
     "output_type": "execute_result"
    },
    {
     "data": {
      "image/png": "[encoded data removed]",
      "text/plain": [
       "<Figure size 1152x432 with 1 Axes>"
      ]
     },
     "metadata": {
      "needs_background": "light"
     },
     "output_type": "display_data"
    }
   ],
   "source": [
    "plt.plot(reduced_vectors[:,0], reduced_vectors[:,1], '.')"
   ]
  },
  {
   "cell_type": "markdown",
   "metadata": {},
   "source": [
    "## Advanced time analysis"
   ]
  },
  {
   "cell_type": "markdown",
   "metadata": {},
   "source": [
    "* evolution of words over time : take for example the top-50 words and analyze their frequency use over time (maybe it's time to explore jupyter notebook widgets ? we could use a dropdown)"
   ]
  },
  {
   "cell_type": "code",
   "execution_count": null,
   "metadata": {},
   "outputs": [],
   "source": []
  }
 ],
 "metadata": {
  "kernelspec": {
   "display_name": "Python 3",
   "language": "python",
   "name": "python3"
  },
  "language_info": {
   "codemirror_mode": {
    "name": "ipython",
    "version": 3
   },
   "file_extension": ".py",
   "mimetype": "text/x-python",
   "name": "python",
   "nbconvert_exporter": "python",
   "pygments_lexer": "ipython3",
   "version": "3.6.2"
  }
 },
 "nbformat": 4,
 "nbformat_minor": 2
}
